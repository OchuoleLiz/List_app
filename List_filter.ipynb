{
 "cells": [
  {
   "cell_type": "code",
   "execution_count": null,
   "id": "baec2948",
   "metadata": {},
   "outputs": [],
   "source": [
    "def list_filter(list=[]):\n",
    "    pass\n",
    "    \n",
    "while True:\n",
    "    list_size = (input(\"Enter number of items in list...\\n\"))\n",
    "    try:\n",
    "        val = int(list_size)\n",
    "        print(\"List size is: \", val)\n",
    "        break;\n",
    "    except ValueError:\n",
    "        print(\"This is not a Number.\\nPlease enter a valid Number\")\n",
    "\n",
    "if int(list_size) == 0:\n",
    "    print(\"List must contain Numbers\")\n",
    "else:\n",
    "    print(\"Constructing List...\")\n",
    "    full_list = list(range(int(list_size) + 1))\n",
    "    print(\"List contains: \", full_list)\n",
    "\n",
    "numbers_to_filter = input(\"Enter type of number to select...\\n 'E' for Even Number and 'O' for Odd Number \\n\").capitalize()\n",
    "if numbers_to_filter == \"E\":\n",
    "    print(\"Sorting Even Numbers...\")\n",
    "    print(\"The Even numbers in the list are: \")\n",
    "    for x in full_list:\n",
    "        if x % 2 == 0:            \n",
    "            print(x)\n",
    "elif numbers_to_filter == \"O\":\n",
    "    print(\"Sorting Odd Numbers...\")\n",
    "    print(\"The Odd numbers in the list are: \")\n",
    "    for x in full_list:\n",
    "        if x % 2 == 1:          \n",
    "            print(x)\n",
    "else:\n",
    "    print(\"Invalid Option\")\n",
    "    print(\"Enter 'E' or 'O'\")\n",
    "\n",
    "list_filter(full_list)"
   ]
  },
  {
   "cell_type": "code",
   "execution_count": null,
   "id": "e3daca4e",
   "metadata": {},
   "outputs": [],
   "source": []
  }
 ],
 "metadata": {
  "kernelspec": {
   "display_name": "Python 3 (ipykernel)",
   "language": "python",
   "name": "python3"
  },
  "language_info": {
   "codemirror_mode": {
    "name": "ipython",
    "version": 3
   },
   "file_extension": ".py",
   "mimetype": "text/x-python",
   "name": "python",
   "nbconvert_exporter": "python",
   "pygments_lexer": "ipython3",
   "version": "3.9.7"
  }
 },
 "nbformat": 4,
 "nbformat_minor": 5
}
